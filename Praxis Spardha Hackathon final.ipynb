{
 "cells": [
  {
   "cell_type": "code",
   "execution_count": 1,
   "metadata": {},
   "outputs": [
    {
     "data": {
      "text/plain": [
       "'C:\\\\Users\\\\user\\\\Desktop\\\\Upgrad\\\\Praxis'"
      ]
     },
     "execution_count": 1,
     "metadata": {},
     "output_type": "execute_result"
    }
   ],
   "source": [
    "import pandas as pd\n",
    "import numpy as np\n",
    "import matplotlib.pyplot as plt\n",
    "import seaborn as sns\n",
    "import os\n",
    "os.getcwd()"
   ]
  },
  {
   "cell_type": "code",
   "execution_count": 2,
   "metadata": {},
   "outputs": [],
   "source": [
    "train=pd.read_csv('C:\\\\Users\\\\user\\\\Desktop\\\\Upgrad\\\\Praxis\\\\train.csv')\n",
    "test=pd.read_csv('C:\\\\Users\\\\user\\\\Desktop\\\\Upgrad\\\\Praxis\\\\test_F9a0NJV.csv')\n",
    "customer=pd.read_csv('C:\\\\Users\\\\user\\\\Desktop\\\\Upgrad\\\\Praxis\\\\customer.csv')"
   ]
  },
  {
   "cell_type": "code",
   "execution_count": 3,
   "metadata": {},
   "outputs": [],
   "source": [
    "submission=pd.read_csv('C:\\\\Users\\\\user\\\\Desktop\\\\Upgrad\\\\Praxis\\\\sample_submission_85njlT4.csv')"
   ]
  },
  {
   "cell_type": "code",
   "execution_count": 4,
   "metadata": {},
   "outputs": [
    {
     "data": {
      "text/html": [
       "<div>\n",
       "<style scoped>\n",
       "    .dataframe tbody tr th:only-of-type {\n",
       "        vertical-align: middle;\n",
       "    }\n",
       "\n",
       "    .dataframe tbody tr th {\n",
       "        vertical-align: top;\n",
       "    }\n",
       "\n",
       "    .dataframe thead th {\n",
       "        text-align: right;\n",
       "    }\n",
       "</style>\n",
       "<table border=\"1\" class=\"dataframe\">\n",
       "  <thead>\n",
       "    <tr style=\"text-align: right;\">\n",
       "      <th></th>\n",
       "      <th>cust_id</th>\n",
       "      <th>purchase</th>\n",
       "    </tr>\n",
       "  </thead>\n",
       "  <tbody>\n",
       "    <tr>\n",
       "      <th>0</th>\n",
       "      <td>cust_2341</td>\n",
       "      <td>0</td>\n",
       "    </tr>\n",
       "    <tr>\n",
       "      <th>1</th>\n",
       "      <td>cust_3165</td>\n",
       "      <td>0</td>\n",
       "    </tr>\n",
       "    <tr>\n",
       "      <th>2</th>\n",
       "      <td>cust_8760</td>\n",
       "      <td>0</td>\n",
       "    </tr>\n",
       "    <tr>\n",
       "      <th>3</th>\n",
       "      <td>cust_6397</td>\n",
       "      <td>0</td>\n",
       "    </tr>\n",
       "    <tr>\n",
       "      <th>4</th>\n",
       "      <td>cust_6465</td>\n",
       "      <td>0</td>\n",
       "    </tr>\n",
       "  </tbody>\n",
       "</table>\n",
       "</div>"
      ],
      "text/plain": [
       "     cust_id  purchase\n",
       "0  cust_2341         0\n",
       "1  cust_3165         0\n",
       "2  cust_8760         0\n",
       "3  cust_6397         0\n",
       "4  cust_6465         0"
      ]
     },
     "execution_count": 4,
     "metadata": {},
     "output_type": "execute_result"
    }
   ],
   "source": [
    "submission.head()"
   ]
  },
  {
   "cell_type": "code",
   "execution_count": 5,
   "metadata": {},
   "outputs": [],
   "source": [
    "submission.cust_id=test.cust_id"
   ]
  },
  {
   "cell_type": "code",
   "execution_count": 6,
   "metadata": {},
   "outputs": [
    {
     "data": {
      "text/html": [
       "<div>\n",
       "<style scoped>\n",
       "    .dataframe tbody tr th:only-of-type {\n",
       "        vertical-align: middle;\n",
       "    }\n",
       "\n",
       "    .dataframe tbody tr th {\n",
       "        vertical-align: top;\n",
       "    }\n",
       "\n",
       "    .dataframe thead th {\n",
       "        text-align: right;\n",
       "    }\n",
       "</style>\n",
       "<table border=\"1\" class=\"dataframe\">\n",
       "  <thead>\n",
       "    <tr style=\"text-align: right;\">\n",
       "      <th></th>\n",
       "      <th>cust_id</th>\n",
       "      <th>product_id</th>\n",
       "      <th>visit_date</th>\n",
       "      <th>campaign_category</th>\n",
       "      <th>prod_char_1</th>\n",
       "      <th>prod_char_2</th>\n",
       "      <th>prod_char_3</th>\n",
       "      <th>prod_char_4</th>\n",
       "      <th>prod_char_5</th>\n",
       "      <th>prod_char_6</th>\n",
       "      <th>prod_char_7</th>\n",
       "      <th>purchase</th>\n",
       "    </tr>\n",
       "  </thead>\n",
       "  <tbody>\n",
       "    <tr>\n",
       "      <th>0</th>\n",
       "      <td>cust_1312</td>\n",
       "      <td>prod_cat2_831559</td>\n",
       "      <td>22/09/2017</td>\n",
       "      <td>type 5</td>\n",
       "      <td>NaN</td>\n",
       "      <td>NaN</td>\n",
       "      <td>NaN</td>\n",
       "      <td>NaN</td>\n",
       "      <td>NaN</td>\n",
       "      <td>NaN</td>\n",
       "      <td>cat 208</td>\n",
       "      <td>1</td>\n",
       "    </tr>\n",
       "    <tr>\n",
       "      <th>1</th>\n",
       "      <td>cust_1427</td>\n",
       "      <td>prod_cat2_4262088</td>\n",
       "      <td>05/08/2018</td>\n",
       "      <td>type 3</td>\n",
       "      <td>NaN</td>\n",
       "      <td>NaN</td>\n",
       "      <td>NaN</td>\n",
       "      <td>NaN</td>\n",
       "      <td>NaN</td>\n",
       "      <td>NaN</td>\n",
       "      <td>cat 61</td>\n",
       "      <td>0</td>\n",
       "    </tr>\n",
       "    <tr>\n",
       "      <th>2</th>\n",
       "      <td>cust_8575</td>\n",
       "      <td>prod_cat2_2480790</td>\n",
       "      <td>15/10/2017</td>\n",
       "      <td>type 5</td>\n",
       "      <td>NaN</td>\n",
       "      <td>NaN</td>\n",
       "      <td>NaN</td>\n",
       "      <td>NaN</td>\n",
       "      <td>NaN</td>\n",
       "      <td>NaN</td>\n",
       "      <td>cat 433</td>\n",
       "      <td>1</td>\n",
       "    </tr>\n",
       "    <tr>\n",
       "      <th>3</th>\n",
       "      <td>cust_6737</td>\n",
       "      <td>prod_cat2_2142924</td>\n",
       "      <td>23/10/2017</td>\n",
       "      <td>type 5</td>\n",
       "      <td>NaN</td>\n",
       "      <td>NaN</td>\n",
       "      <td>NaN</td>\n",
       "      <td>NaN</td>\n",
       "      <td>NaN</td>\n",
       "      <td>NaN</td>\n",
       "      <td>cat 2114</td>\n",
       "      <td>0</td>\n",
       "    </tr>\n",
       "    <tr>\n",
       "      <th>4</th>\n",
       "      <td>cust_8169</td>\n",
       "      <td>prod_cat2_3877499</td>\n",
       "      <td>05/03/2018</td>\n",
       "      <td>type 3</td>\n",
       "      <td>NaN</td>\n",
       "      <td>NaN</td>\n",
       "      <td>NaN</td>\n",
       "      <td>NaN</td>\n",
       "      <td>NaN</td>\n",
       "      <td>NaN</td>\n",
       "      <td>cat 2</td>\n",
       "      <td>0</td>\n",
       "    </tr>\n",
       "  </tbody>\n",
       "</table>\n",
       "</div>"
      ],
      "text/plain": [
       "     cust_id         product_id  visit_date campaign_category prod_char_1  \\\n",
       "0  cust_1312   prod_cat2_831559  22/09/2017            type 5         NaN   \n",
       "1  cust_1427  prod_cat2_4262088  05/08/2018            type 3         NaN   \n",
       "2  cust_8575  prod_cat2_2480790  15/10/2017            type 5         NaN   \n",
       "3  cust_6737  prod_cat2_2142924  23/10/2017            type 5         NaN   \n",
       "4  cust_8169  prod_cat2_3877499  05/03/2018            type 3         NaN   \n",
       "\n",
       "  prod_char_2 prod_char_3 prod_char_4 prod_char_5 prod_char_6 prod_char_7  \\\n",
       "0         NaN         NaN         NaN         NaN         NaN     cat 208   \n",
       "1         NaN         NaN         NaN         NaN         NaN      cat 61   \n",
       "2         NaN         NaN         NaN         NaN         NaN     cat 433   \n",
       "3         NaN         NaN         NaN         NaN         NaN    cat 2114   \n",
       "4         NaN         NaN         NaN         NaN         NaN       cat 2   \n",
       "\n",
       "   purchase  \n",
       "0         1  \n",
       "1         0  \n",
       "2         1  \n",
       "3         0  \n",
       "4         0  "
      ]
     },
     "execution_count": 6,
     "metadata": {},
     "output_type": "execute_result"
    }
   ],
   "source": [
    "train.head()"
   ]
  },
  {
   "cell_type": "code",
   "execution_count": 7,
   "metadata": {},
   "outputs": [
    {
     "data": {
      "text/plain": [
       "(77000, 12)"
      ]
     },
     "execution_count": 7,
     "metadata": {},
     "output_type": "execute_result"
    }
   ],
   "source": [
    "train.shape"
   ]
  },
  {
   "cell_type": "code",
   "execution_count": 8,
   "metadata": {},
   "outputs": [
    {
     "name": "stdout",
     "output_type": "stream",
     "text": [
      "<class 'pandas.core.frame.DataFrame'>\n",
      "RangeIndex: 77000 entries, 0 to 76999\n",
      "Data columns (total 12 columns):\n",
      "cust_id              77000 non-null object\n",
      "product_id           77000 non-null object\n",
      "visit_date           77000 non-null object\n",
      "campaign_category    77000 non-null object\n",
      "prod_char_1          6127 non-null object\n",
      "prod_char_2          6127 non-null object\n",
      "prod_char_3          6127 non-null object\n",
      "prod_char_4          6127 non-null object\n",
      "prod_char_5          6127 non-null object\n",
      "prod_char_6          6127 non-null object\n",
      "prod_char_7          70873 non-null object\n",
      "purchase             77000 non-null int64\n",
      "dtypes: int64(1), object(11)\n",
      "memory usage: 7.0+ MB\n"
     ]
    }
   ],
   "source": [
    "train.info()"
   ]
  },
  {
   "cell_type": "code",
   "execution_count": 9,
   "metadata": {},
   "outputs": [
    {
     "data": {
      "text/plain": [
       "7189"
      ]
     },
     "execution_count": 9,
     "metadata": {},
     "output_type": "execute_result"
    }
   ],
   "source": [
    "train.cust_id.nunique()"
   ]
  },
  {
   "cell_type": "code",
   "execution_count": 10,
   "metadata": {},
   "outputs": [
    {
     "data": {
      "text/html": [
       "<div>\n",
       "<style scoped>\n",
       "    .dataframe tbody tr th:only-of-type {\n",
       "        vertical-align: middle;\n",
       "    }\n",
       "\n",
       "    .dataframe tbody tr th {\n",
       "        vertical-align: top;\n",
       "    }\n",
       "\n",
       "    .dataframe thead th {\n",
       "        text-align: right;\n",
       "    }\n",
       "</style>\n",
       "<table border=\"1\" class=\"dataframe\">\n",
       "  <thead>\n",
       "    <tr style=\"text-align: right;\">\n",
       "      <th></th>\n",
       "      <th>cust_id</th>\n",
       "      <th>city</th>\n",
       "      <th>cust_group</th>\n",
       "      <th>cust_type</th>\n",
       "      <th>cust_approach_date</th>\n",
       "      <th>cust_attrb_1</th>\n",
       "      <th>cust_attrb_2</th>\n",
       "      <th>cust_attrb_3</th>\n",
       "      <th>cust_attrb_4</th>\n",
       "      <th>cust_attrb_5</th>\n",
       "      <th>...</th>\n",
       "      <th>cust_attrb_19</th>\n",
       "      <th>cust_attrb_20</th>\n",
       "      <th>cust_attrb_21</th>\n",
       "      <th>cust_attrb_22</th>\n",
       "      <th>cust_attrb_23</th>\n",
       "      <th>cust_attrb_24</th>\n",
       "      <th>cust_attrb_25</th>\n",
       "      <th>cust_attrb_26</th>\n",
       "      <th>cust_attrb_27</th>\n",
       "      <th>cust_attrb_28</th>\n",
       "    </tr>\n",
       "  </thead>\n",
       "  <tbody>\n",
       "    <tr>\n",
       "      <th>0</th>\n",
       "      <td>cust_0</td>\n",
       "      <td>city 2</td>\n",
       "      <td>group 17304</td>\n",
       "      <td>type 2</td>\n",
       "      <td>21/04/2018</td>\n",
       "      <td>cat 4</td>\n",
       "      <td>cat 6</td>\n",
       "      <td>cat 4</td>\n",
       "      <td>cat 5</td>\n",
       "      <td>cat 22</td>\n",
       "      <td>...</td>\n",
       "      <td>0</td>\n",
       "      <td>0</td>\n",
       "      <td>0</td>\n",
       "      <td>0</td>\n",
       "      <td>0</td>\n",
       "      <td>0</td>\n",
       "      <td>0</td>\n",
       "      <td>0</td>\n",
       "      <td>0</td>\n",
       "      <td>0</td>\n",
       "    </tr>\n",
       "    <tr>\n",
       "      <th>1</th>\n",
       "      <td>cust_1</td>\n",
       "      <td>city 2</td>\n",
       "      <td>group 21731</td>\n",
       "      <td>type 3</td>\n",
       "      <td>25/02/2016</td>\n",
       "      <td>cat 21</td>\n",
       "      <td>cat 4</td>\n",
       "      <td>cat 3</td>\n",
       "      <td>cat 1</td>\n",
       "      <td>cat 1</td>\n",
       "      <td>...</td>\n",
       "      <td>0</td>\n",
       "      <td>0</td>\n",
       "      <td>0</td>\n",
       "      <td>0</td>\n",
       "      <td>0</td>\n",
       "      <td>0</td>\n",
       "      <td>0</td>\n",
       "      <td>0</td>\n",
       "      <td>0</td>\n",
       "      <td>75</td>\n",
       "    </tr>\n",
       "    <tr>\n",
       "      <th>2</th>\n",
       "      <td>cust_2</td>\n",
       "      <td>city 2</td>\n",
       "      <td>group 48077</td>\n",
       "      <td>type 3</td>\n",
       "      <td>31/05/2018</td>\n",
       "      <td>cat 6</td>\n",
       "      <td>cat 8</td>\n",
       "      <td>cat 5</td>\n",
       "      <td>cat 5</td>\n",
       "      <td>cat 15</td>\n",
       "      <td>...</td>\n",
       "      <td>0</td>\n",
       "      <td>1</td>\n",
       "      <td>0</td>\n",
       "      <td>0</td>\n",
       "      <td>1</td>\n",
       "      <td>0</td>\n",
       "      <td>0</td>\n",
       "      <td>1</td>\n",
       "      <td>1</td>\n",
       "      <td>87</td>\n",
       "    </tr>\n",
       "    <tr>\n",
       "      <th>3</th>\n",
       "      <td>cust_3</td>\n",
       "      <td>city 1</td>\n",
       "      <td>group 15391</td>\n",
       "      <td>type 1</td>\n",
       "      <td>29/09/2017</td>\n",
       "      <td>cat 4</td>\n",
       "      <td>cat 7</td>\n",
       "      <td>cat 4</td>\n",
       "      <td>cat 1</td>\n",
       "      <td>cat 2</td>\n",
       "      <td>...</td>\n",
       "      <td>1</td>\n",
       "      <td>1</td>\n",
       "      <td>1</td>\n",
       "      <td>1</td>\n",
       "      <td>0</td>\n",
       "      <td>0</td>\n",
       "      <td>0</td>\n",
       "      <td>1</td>\n",
       "      <td>1</td>\n",
       "      <td>89</td>\n",
       "    </tr>\n",
       "    <tr>\n",
       "      <th>4</th>\n",
       "      <td>cust_4</td>\n",
       "      <td>city 2</td>\n",
       "      <td>group 17304</td>\n",
       "      <td>type 2</td>\n",
       "      <td>16/02/2018</td>\n",
       "      <td>cat 5</td>\n",
       "      <td>cat 5</td>\n",
       "      <td>cat 5</td>\n",
       "      <td>cat 7</td>\n",
       "      <td>cat 14</td>\n",
       "      <td>...</td>\n",
       "      <td>0</td>\n",
       "      <td>0</td>\n",
       "      <td>0</td>\n",
       "      <td>0</td>\n",
       "      <td>0</td>\n",
       "      <td>0</td>\n",
       "      <td>0</td>\n",
       "      <td>0</td>\n",
       "      <td>0</td>\n",
       "      <td>0</td>\n",
       "    </tr>\n",
       "  </tbody>\n",
       "</table>\n",
       "<p>5 rows × 33 columns</p>\n",
       "</div>"
      ],
      "text/plain": [
       "  cust_id    city   cust_group cust_type cust_approach_date cust_attrb_1  \\\n",
       "0  cust_0  city 2  group 17304    type 2         21/04/2018        cat 4   \n",
       "1  cust_1  city 2  group 21731    type 3         25/02/2016       cat 21   \n",
       "2  cust_2  city 2  group 48077    type 3         31/05/2018        cat 6   \n",
       "3  cust_3  city 1  group 15391    type 1         29/09/2017        cat 4   \n",
       "4  cust_4  city 2  group 17304    type 2         16/02/2018        cat 5   \n",
       "\n",
       "  cust_attrb_2 cust_attrb_3 cust_attrb_4 cust_attrb_5  ... cust_attrb_19  \\\n",
       "0        cat 6        cat 4        cat 5       cat 22  ...             0   \n",
       "1        cat 4        cat 3        cat 1        cat 1  ...             0   \n",
       "2        cat 8        cat 5        cat 5       cat 15  ...             0   \n",
       "3        cat 7        cat 4        cat 1        cat 2  ...             1   \n",
       "4        cat 5        cat 5        cat 7       cat 14  ...             0   \n",
       "\n",
       "  cust_attrb_20  cust_attrb_21  cust_attrb_22  cust_attrb_23  cust_attrb_24  \\\n",
       "0             0              0              0              0              0   \n",
       "1             0              0              0              0              0   \n",
       "2             1              0              0              1              0   \n",
       "3             1              1              1              0              0   \n",
       "4             0              0              0              0              0   \n",
       "\n",
       "   cust_attrb_25  cust_attrb_26  cust_attrb_27  cust_attrb_28  \n",
       "0              0              0              0              0  \n",
       "1              0              0              0             75  \n",
       "2              0              1              1             87  \n",
       "3              0              1              1             89  \n",
       "4              0              0              0              0  \n",
       "\n",
       "[5 rows x 33 columns]"
      ]
     },
     "execution_count": 10,
     "metadata": {},
     "output_type": "execute_result"
    }
   ],
   "source": [
    "customer.head()"
   ]
  },
  {
   "cell_type": "code",
   "execution_count": 11,
   "metadata": {},
   "outputs": [],
   "source": [
    "train_data=train.merge(customer,how='left',on='cust_id')"
   ]
  },
  {
   "cell_type": "code",
   "execution_count": 12,
   "metadata": {},
   "outputs": [
    {
     "data": {
      "text/plain": [
       "(77000, 44)"
      ]
     },
     "execution_count": 12,
     "metadata": {},
     "output_type": "execute_result"
    }
   ],
   "source": [
    "train_data.shape"
   ]
  },
  {
   "cell_type": "code",
   "execution_count": 13,
   "metadata": {},
   "outputs": [
    {
     "data": {
      "text/html": [
       "<div>\n",
       "<style scoped>\n",
       "    .dataframe tbody tr th:only-of-type {\n",
       "        vertical-align: middle;\n",
       "    }\n",
       "\n",
       "    .dataframe tbody tr th {\n",
       "        vertical-align: top;\n",
       "    }\n",
       "\n",
       "    .dataframe thead th {\n",
       "        text-align: right;\n",
       "    }\n",
       "</style>\n",
       "<table border=\"1\" class=\"dataframe\">\n",
       "  <thead>\n",
       "    <tr style=\"text-align: right;\">\n",
       "      <th></th>\n",
       "      <th>cust_id</th>\n",
       "      <th>product_id</th>\n",
       "      <th>visit_date</th>\n",
       "      <th>campaign_category</th>\n",
       "      <th>prod_char_1</th>\n",
       "      <th>prod_char_2</th>\n",
       "      <th>prod_char_3</th>\n",
       "      <th>prod_char_4</th>\n",
       "      <th>prod_char_5</th>\n",
       "      <th>prod_char_6</th>\n",
       "      <th>...</th>\n",
       "      <th>cust_attrb_19</th>\n",
       "      <th>cust_attrb_20</th>\n",
       "      <th>cust_attrb_21</th>\n",
       "      <th>cust_attrb_22</th>\n",
       "      <th>cust_attrb_23</th>\n",
       "      <th>cust_attrb_24</th>\n",
       "      <th>cust_attrb_25</th>\n",
       "      <th>cust_attrb_26</th>\n",
       "      <th>cust_attrb_27</th>\n",
       "      <th>cust_attrb_28</th>\n",
       "    </tr>\n",
       "  </thead>\n",
       "  <tbody>\n",
       "    <tr>\n",
       "      <th>0</th>\n",
       "      <td>cust_1312</td>\n",
       "      <td>prod_cat2_831559</td>\n",
       "      <td>22/09/2017</td>\n",
       "      <td>type 5</td>\n",
       "      <td>NaN</td>\n",
       "      <td>NaN</td>\n",
       "      <td>NaN</td>\n",
       "      <td>NaN</td>\n",
       "      <td>NaN</td>\n",
       "      <td>NaN</td>\n",
       "      <td>...</td>\n",
       "      <td>0</td>\n",
       "      <td>0</td>\n",
       "      <td>1</td>\n",
       "      <td>0</td>\n",
       "      <td>1</td>\n",
       "      <td>0</td>\n",
       "      <td>0</td>\n",
       "      <td>0</td>\n",
       "      <td>0</td>\n",
       "      <td>56</td>\n",
       "    </tr>\n",
       "    <tr>\n",
       "      <th>1</th>\n",
       "      <td>cust_1427</td>\n",
       "      <td>prod_cat2_4262088</td>\n",
       "      <td>05/08/2018</td>\n",
       "      <td>type 3</td>\n",
       "      <td>NaN</td>\n",
       "      <td>NaN</td>\n",
       "      <td>NaN</td>\n",
       "      <td>NaN</td>\n",
       "      <td>NaN</td>\n",
       "      <td>NaN</td>\n",
       "      <td>...</td>\n",
       "      <td>0</td>\n",
       "      <td>0</td>\n",
       "      <td>0</td>\n",
       "      <td>0</td>\n",
       "      <td>1</td>\n",
       "      <td>0</td>\n",
       "      <td>0</td>\n",
       "      <td>0</td>\n",
       "      <td>0</td>\n",
       "      <td>86</td>\n",
       "    </tr>\n",
       "    <tr>\n",
       "      <th>2</th>\n",
       "      <td>cust_8575</td>\n",
       "      <td>prod_cat2_2480790</td>\n",
       "      <td>15/10/2017</td>\n",
       "      <td>type 5</td>\n",
       "      <td>NaN</td>\n",
       "      <td>NaN</td>\n",
       "      <td>NaN</td>\n",
       "      <td>NaN</td>\n",
       "      <td>NaN</td>\n",
       "      <td>NaN</td>\n",
       "      <td>...</td>\n",
       "      <td>0</td>\n",
       "      <td>0</td>\n",
       "      <td>0</td>\n",
       "      <td>0</td>\n",
       "      <td>0</td>\n",
       "      <td>0</td>\n",
       "      <td>0</td>\n",
       "      <td>0</td>\n",
       "      <td>0</td>\n",
       "      <td>73</td>\n",
       "    </tr>\n",
       "    <tr>\n",
       "      <th>3</th>\n",
       "      <td>cust_6737</td>\n",
       "      <td>prod_cat2_2142924</td>\n",
       "      <td>23/10/2017</td>\n",
       "      <td>type 5</td>\n",
       "      <td>NaN</td>\n",
       "      <td>NaN</td>\n",
       "      <td>NaN</td>\n",
       "      <td>NaN</td>\n",
       "      <td>NaN</td>\n",
       "      <td>NaN</td>\n",
       "      <td>...</td>\n",
       "      <td>0</td>\n",
       "      <td>0</td>\n",
       "      <td>0</td>\n",
       "      <td>0</td>\n",
       "      <td>0</td>\n",
       "      <td>0</td>\n",
       "      <td>0</td>\n",
       "      <td>0</td>\n",
       "      <td>0</td>\n",
       "      <td>18</td>\n",
       "    </tr>\n",
       "    <tr>\n",
       "      <th>4</th>\n",
       "      <td>cust_8169</td>\n",
       "      <td>prod_cat2_3877499</td>\n",
       "      <td>05/03/2018</td>\n",
       "      <td>type 3</td>\n",
       "      <td>NaN</td>\n",
       "      <td>NaN</td>\n",
       "      <td>NaN</td>\n",
       "      <td>NaN</td>\n",
       "      <td>NaN</td>\n",
       "      <td>NaN</td>\n",
       "      <td>...</td>\n",
       "      <td>0</td>\n",
       "      <td>0</td>\n",
       "      <td>0</td>\n",
       "      <td>0</td>\n",
       "      <td>0</td>\n",
       "      <td>0</td>\n",
       "      <td>0</td>\n",
       "      <td>0</td>\n",
       "      <td>0</td>\n",
       "      <td>0</td>\n",
       "    </tr>\n",
       "  </tbody>\n",
       "</table>\n",
       "<p>5 rows × 44 columns</p>\n",
       "</div>"
      ],
      "text/plain": [
       "     cust_id         product_id  visit_date campaign_category prod_char_1  \\\n",
       "0  cust_1312   prod_cat2_831559  22/09/2017            type 5         NaN   \n",
       "1  cust_1427  prod_cat2_4262088  05/08/2018            type 3         NaN   \n",
       "2  cust_8575  prod_cat2_2480790  15/10/2017            type 5         NaN   \n",
       "3  cust_6737  prod_cat2_2142924  23/10/2017            type 5         NaN   \n",
       "4  cust_8169  prod_cat2_3877499  05/03/2018            type 3         NaN   \n",
       "\n",
       "  prod_char_2 prod_char_3 prod_char_4 prod_char_5 prod_char_6  ...  \\\n",
       "0         NaN         NaN         NaN         NaN         NaN  ...   \n",
       "1         NaN         NaN         NaN         NaN         NaN  ...   \n",
       "2         NaN         NaN         NaN         NaN         NaN  ...   \n",
       "3         NaN         NaN         NaN         NaN         NaN  ...   \n",
       "4         NaN         NaN         NaN         NaN         NaN  ...   \n",
       "\n",
       "  cust_attrb_19  cust_attrb_20 cust_attrb_21 cust_attrb_22 cust_attrb_23  \\\n",
       "0             0              0             1             0             1   \n",
       "1             0              0             0             0             1   \n",
       "2             0              0             0             0             0   \n",
       "3             0              0             0             0             0   \n",
       "4             0              0             0             0             0   \n",
       "\n",
       "  cust_attrb_24 cust_attrb_25 cust_attrb_26 cust_attrb_27 cust_attrb_28  \n",
       "0             0             0             0             0            56  \n",
       "1             0             0             0             0            86  \n",
       "2             0             0             0             0            73  \n",
       "3             0             0             0             0            18  \n",
       "4             0             0             0             0             0  \n",
       "\n",
       "[5 rows x 44 columns]"
      ]
     },
     "execution_count": 13,
     "metadata": {},
     "output_type": "execute_result"
    }
   ],
   "source": [
    "train_data.head()"
   ]
  },
  {
   "cell_type": "code",
   "execution_count": 14,
   "metadata": {
    "scrolled": true
   },
   "outputs": [
    {
     "name": "stdout",
     "output_type": "stream",
     "text": [
      "<class 'pandas.core.frame.DataFrame'>\n",
      "Int64Index: 77000 entries, 0 to 76999\n",
      "Data columns (total 44 columns):\n",
      "cust_id               77000 non-null object\n",
      "product_id            77000 non-null object\n",
      "visit_date            77000 non-null object\n",
      "campaign_category     77000 non-null object\n",
      "prod_char_1           6127 non-null object\n",
      "prod_char_2           6127 non-null object\n",
      "prod_char_3           6127 non-null object\n",
      "prod_char_4           6127 non-null object\n",
      "prod_char_5           6127 non-null object\n",
      "prod_char_6           6127 non-null object\n",
      "prod_char_7           70873 non-null object\n",
      "purchase              77000 non-null int64\n",
      "city                  77000 non-null object\n",
      "cust_group            77000 non-null object\n",
      "cust_type             77000 non-null object\n",
      "cust_approach_date    77000 non-null object\n",
      "cust_attrb_1          77000 non-null object\n",
      "cust_attrb_2          77000 non-null object\n",
      "cust_attrb_3          77000 non-null object\n",
      "cust_attrb_4          77000 non-null object\n",
      "cust_attrb_5          77000 non-null object\n",
      "cust_attrb_6          77000 non-null object\n",
      "cust_attrb_7          77000 non-null object\n",
      "cust_attrb_8          77000 non-null int64\n",
      "cust_attrb_9          77000 non-null int64\n",
      "cust_attrb_10         77000 non-null int64\n",
      "cust_attrb_11         77000 non-null int64\n",
      "cust_attrb_12         77000 non-null int64\n",
      "cust_attrb_13         77000 non-null int64\n",
      "cust_attrb_14         77000 non-null int64\n",
      "cust_attrb_15         77000 non-null int64\n",
      "cust_attrb_16         77000 non-null int64\n",
      "cust_attrb_17         77000 non-null int64\n",
      "cust_attrb_18         77000 non-null int64\n",
      "cust_attrb_19         77000 non-null int64\n",
      "cust_attrb_20         77000 non-null int64\n",
      "cust_attrb_21         77000 non-null int64\n",
      "cust_attrb_22         77000 non-null int64\n",
      "cust_attrb_23         77000 non-null int64\n",
      "cust_attrb_24         77000 non-null int64\n",
      "cust_attrb_25         77000 non-null int64\n",
      "cust_attrb_26         77000 non-null int64\n",
      "cust_attrb_27         77000 non-null int64\n",
      "cust_attrb_28         77000 non-null int64\n",
      "dtypes: int64(22), object(22)\n",
      "memory usage: 26.4+ MB\n"
     ]
    }
   ],
   "source": [
    "train_data.info()"
   ]
  },
  {
   "cell_type": "code",
   "execution_count": 15,
   "metadata": {},
   "outputs": [
    {
     "data": {
      "text/plain": [
       "7189"
      ]
     },
     "execution_count": 15,
     "metadata": {},
     "output_type": "execute_result"
    }
   ],
   "source": [
    "train_data.cust_id.nunique()"
   ]
  },
  {
   "cell_type": "code",
   "execution_count": 16,
   "metadata": {},
   "outputs": [
    {
     "data": {
      "text/plain": [
       "77000"
      ]
     },
     "execution_count": 16,
     "metadata": {},
     "output_type": "execute_result"
    }
   ],
   "source": [
    "train_data.product_id.nunique()\n",
    "#drop product_id"
   ]
  },
  {
   "cell_type": "code",
   "execution_count": 17,
   "metadata": {},
   "outputs": [
    {
     "data": {
      "text/plain": [
       "7"
      ]
     },
     "execution_count": 17,
     "metadata": {},
     "output_type": "execute_result"
    }
   ],
   "source": [
    "train_data.campaign_category.nunique()"
   ]
  },
  {
   "cell_type": "code",
   "execution_count": 18,
   "metadata": {},
   "outputs": [
    {
     "data": {
      "text/html": [
       "<div>\n",
       "<style scoped>\n",
       "    .dataframe tbody tr th:only-of-type {\n",
       "        vertical-align: middle;\n",
       "    }\n",
       "\n",
       "    .dataframe tbody tr th {\n",
       "        vertical-align: top;\n",
       "    }\n",
       "\n",
       "    .dataframe thead th {\n",
       "        text-align: right;\n",
       "    }\n",
       "</style>\n",
       "<table border=\"1\" class=\"dataframe\">\n",
       "  <thead>\n",
       "    <tr style=\"text-align: right;\">\n",
       "      <th>purchase</th>\n",
       "      <th>0</th>\n",
       "      <th>1</th>\n",
       "    </tr>\n",
       "    <tr>\n",
       "      <th>campaign_category</th>\n",
       "      <th></th>\n",
       "      <th></th>\n",
       "    </tr>\n",
       "  </thead>\n",
       "  <tbody>\n",
       "    <tr>\n",
       "      <th>type 1</th>\n",
       "      <td>3465</td>\n",
       "      <td>2662</td>\n",
       "    </tr>\n",
       "    <tr>\n",
       "      <th>type 2</th>\n",
       "      <td>17627</td>\n",
       "      <td>17166</td>\n",
       "    </tr>\n",
       "    <tr>\n",
       "      <th>type 3</th>\n",
       "      <td>4812</td>\n",
       "      <td>4537</td>\n",
       "    </tr>\n",
       "    <tr>\n",
       "      <th>type 4</th>\n",
       "      <td>3846</td>\n",
       "      <td>3657</td>\n",
       "    </tr>\n",
       "    <tr>\n",
       "      <th>type 5</th>\n",
       "      <td>9731</td>\n",
       "      <td>9217</td>\n",
       "    </tr>\n",
       "    <tr>\n",
       "      <th>type 6</th>\n",
       "      <td>63</td>\n",
       "      <td>99</td>\n",
       "    </tr>\n",
       "    <tr>\n",
       "      <th>type 7</th>\n",
       "      <td>74</td>\n",
       "      <td>44</td>\n",
       "    </tr>\n",
       "  </tbody>\n",
       "</table>\n",
       "</div>"
      ],
      "text/plain": [
       "purchase               0      1\n",
       "campaign_category              \n",
       "type 1              3465   2662\n",
       "type 2             17627  17166\n",
       "type 3              4812   4537\n",
       "type 4              3846   3657\n",
       "type 5              9731   9217\n",
       "type 6                63     99\n",
       "type 7                74     44"
      ]
     },
     "execution_count": 18,
     "metadata": {},
     "output_type": "execute_result"
    }
   ],
   "source": [
    "pd.crosstab(train_data.campaign_category,train_data.purchase)"
   ]
  },
  {
   "cell_type": "markdown",
   "metadata": {},
   "source": [
    "There is no such difference b/w count of 0 & 1 for each category"
   ]
  },
  {
   "cell_type": "code",
   "execution_count": 19,
   "metadata": {},
   "outputs": [
    {
     "data": {
      "text/plain": [
       "1937"
      ]
     },
     "execution_count": 19,
     "metadata": {},
     "output_type": "execute_result"
    }
   ],
   "source": [
    "train_data.prod_char_7.nunique()"
   ]
  },
  {
   "cell_type": "code",
   "execution_count": 20,
   "metadata": {},
   "outputs": [
    {
     "data": {
      "text/plain": [
       "2"
      ]
     },
     "execution_count": 20,
     "metadata": {},
     "output_type": "execute_result"
    }
   ],
   "source": [
    "train_data.city.nunique()"
   ]
  },
  {
   "cell_type": "code",
   "execution_count": 21,
   "metadata": {},
   "outputs": [
    {
     "data": {
      "text/html": [
       "<div>\n",
       "<style scoped>\n",
       "    .dataframe tbody tr th:only-of-type {\n",
       "        vertical-align: middle;\n",
       "    }\n",
       "\n",
       "    .dataframe tbody tr th {\n",
       "        vertical-align: top;\n",
       "    }\n",
       "\n",
       "    .dataframe thead th {\n",
       "        text-align: right;\n",
       "    }\n",
       "</style>\n",
       "<table border=\"1\" class=\"dataframe\">\n",
       "  <thead>\n",
       "    <tr style=\"text-align: right;\">\n",
       "      <th>purchase</th>\n",
       "      <th>0</th>\n",
       "      <th>1</th>\n",
       "    </tr>\n",
       "    <tr>\n",
       "      <th>city</th>\n",
       "      <th></th>\n",
       "      <th></th>\n",
       "    </tr>\n",
       "  </thead>\n",
       "  <tbody>\n",
       "    <tr>\n",
       "      <th>city 1</th>\n",
       "      <td>2309</td>\n",
       "      <td>5591</td>\n",
       "    </tr>\n",
       "    <tr>\n",
       "      <th>city 2</th>\n",
       "      <td>37309</td>\n",
       "      <td>31791</td>\n",
       "    </tr>\n",
       "  </tbody>\n",
       "</table>\n",
       "</div>"
      ],
      "text/plain": [
       "purchase      0      1\n",
       "city                  \n",
       "city 1     2309   5591\n",
       "city 2    37309  31791"
      ]
     },
     "execution_count": 21,
     "metadata": {},
     "output_type": "execute_result"
    }
   ],
   "source": [
    "pd.crosstab(train_data.city,train_data.purchase)"
   ]
  },
  {
   "cell_type": "markdown",
   "metadata": {},
   "source": [
    "Customer belonging to city 1 has higher chance to be a valued customer based on above crosstab"
   ]
  },
  {
   "cell_type": "code",
   "execution_count": 22,
   "metadata": {},
   "outputs": [
    {
     "data": {
      "text/plain": [
       "3160"
      ]
     },
     "execution_count": 22,
     "metadata": {},
     "output_type": "execute_result"
    }
   ],
   "source": [
    "train_data.cust_group.nunique()"
   ]
  },
  {
   "cell_type": "code",
   "execution_count": 23,
   "metadata": {},
   "outputs": [
    {
     "data": {
      "text/plain": [
       "3"
      ]
     },
     "execution_count": 23,
     "metadata": {},
     "output_type": "execute_result"
    }
   ],
   "source": [
    "train_data.cust_type.nunique()"
   ]
  },
  {
   "cell_type": "code",
   "execution_count": 24,
   "metadata": {},
   "outputs": [
    {
     "data": {
      "text/html": [
       "<div>\n",
       "<style scoped>\n",
       "    .dataframe tbody tr th:only-of-type {\n",
       "        vertical-align: middle;\n",
       "    }\n",
       "\n",
       "    .dataframe tbody tr th {\n",
       "        vertical-align: top;\n",
       "    }\n",
       "\n",
       "    .dataframe thead th {\n",
       "        text-align: right;\n",
       "    }\n",
       "</style>\n",
       "<table border=\"1\" class=\"dataframe\">\n",
       "  <thead>\n",
       "    <tr style=\"text-align: right;\">\n",
       "      <th>purchase</th>\n",
       "      <th>0</th>\n",
       "      <th>1</th>\n",
       "    </tr>\n",
       "    <tr>\n",
       "      <th>cust_type</th>\n",
       "      <th></th>\n",
       "      <th></th>\n",
       "    </tr>\n",
       "  </thead>\n",
       "  <tbody>\n",
       "    <tr>\n",
       "      <th>type 1</th>\n",
       "      <td>2309</td>\n",
       "      <td>5591</td>\n",
       "    </tr>\n",
       "    <tr>\n",
       "      <th>type 2</th>\n",
       "      <td>24829</td>\n",
       "      <td>0</td>\n",
       "    </tr>\n",
       "    <tr>\n",
       "      <th>type 3</th>\n",
       "      <td>12480</td>\n",
       "      <td>31791</td>\n",
       "    </tr>\n",
       "  </tbody>\n",
       "</table>\n",
       "</div>"
      ],
      "text/plain": [
       "purchase       0      1\n",
       "cust_type              \n",
       "type 1      2309   5591\n",
       "type 2     24829      0\n",
       "type 3     12480  31791"
      ]
     },
     "execution_count": 24,
     "metadata": {},
     "output_type": "execute_result"
    }
   ],
   "source": [
    "pd.crosstab(train_data.cust_type,train_data.purchase)"
   ]
  },
  {
   "cell_type": "markdown",
   "metadata": {},
   "source": [
    "Type 2 customer are never valued customers"
   ]
  },
  {
   "cell_type": "code",
   "execution_count": 25,
   "metadata": {},
   "outputs": [
    {
     "data": {
      "text/plain": [
       "(22431, 11)"
      ]
     },
     "execution_count": 25,
     "metadata": {},
     "output_type": "execute_result"
    }
   ],
   "source": [
    "test.shape"
   ]
  },
  {
   "cell_type": "code",
   "execution_count": 26,
   "metadata": {},
   "outputs": [
    {
     "data": {
      "text/plain": [
       "38"
      ]
     },
     "execution_count": 26,
     "metadata": {},
     "output_type": "execute_result"
    }
   ],
   "source": [
    "train_data['cust_attrb_1'].nunique()"
   ]
  },
  {
   "cell_type": "code",
   "execution_count": 27,
   "metadata": {},
   "outputs": [
    {
     "data": {
      "text/plain": [
       "25"
      ]
     },
     "execution_count": 27,
     "metadata": {},
     "output_type": "execute_result"
    }
   ],
   "source": [
    "train_data['cust_attrb_2'].nunique()"
   ]
  },
  {
   "cell_type": "code",
   "execution_count": 28,
   "metadata": {},
   "outputs": [
    {
     "data": {
      "text/plain": [
       "9"
      ]
     },
     "execution_count": 28,
     "metadata": {},
     "output_type": "execute_result"
    }
   ],
   "source": [
    "train_data['cust_attrb_3'].nunique()"
   ]
  },
  {
   "cell_type": "code",
   "execution_count": 29,
   "metadata": {},
   "outputs": [
    {
     "data": {
      "text/plain": [
       "7"
      ]
     },
     "execution_count": 29,
     "metadata": {},
     "output_type": "execute_result"
    }
   ],
   "source": [
    "train_data['cust_attrb_4'].nunique()"
   ]
  },
  {
   "cell_type": "code",
   "execution_count": 30,
   "metadata": {},
   "outputs": [
    {
     "data": {
      "text/plain": [
       "25"
      ]
     },
     "execution_count": 30,
     "metadata": {},
     "output_type": "execute_result"
    }
   ],
   "source": [
    "train_data['cust_attrb_5'].nunique()"
   ]
  },
  {
   "cell_type": "code",
   "execution_count": 31,
   "metadata": {},
   "outputs": [
    {
     "data": {
      "text/plain": [
       "8"
      ]
     },
     "execution_count": 31,
     "metadata": {},
     "output_type": "execute_result"
    }
   ],
   "source": [
    "train_data['cust_attrb_6'].nunique()"
   ]
  },
  {
   "cell_type": "code",
   "execution_count": 32,
   "metadata": {},
   "outputs": [
    {
     "data": {
      "text/plain": [
       "8"
      ]
     },
     "execution_count": 32,
     "metadata": {},
     "output_type": "execute_result"
    }
   ],
   "source": [
    "train_data['cust_attrb_6'].nunique()"
   ]
  },
  {
   "cell_type": "code",
   "execution_count": 33,
   "metadata": {},
   "outputs": [],
   "source": [
    "test_data=test.merge(customer,how='left',on='cust_id')"
   ]
  },
  {
   "cell_type": "code",
   "execution_count": 34,
   "metadata": {},
   "outputs": [
    {
     "data": {
      "text/plain": [
       "(22431, 43)"
      ]
     },
     "execution_count": 34,
     "metadata": {},
     "output_type": "execute_result"
    }
   ],
   "source": [
    "test_data.shape"
   ]
  },
  {
   "cell_type": "code",
   "execution_count": 35,
   "metadata": {},
   "outputs": [],
   "source": [
    "total=pd.concat([train_data,test_data],axis=0,ignore_index=True,sort=False)"
   ]
  },
  {
   "cell_type": "code",
   "execution_count": 36,
   "metadata": {},
   "outputs": [
    {
     "data": {
      "text/plain": [
       "(99431, 44)"
      ]
     },
     "execution_count": 36,
     "metadata": {},
     "output_type": "execute_result"
    }
   ],
   "source": [
    "total.shape"
   ]
  },
  {
   "cell_type": "code",
   "execution_count": 37,
   "metadata": {},
   "outputs": [],
   "source": [
    "total['cust_approach_date']=pd.to_datetime(total['cust_approach_date'])"
   ]
  },
  {
   "cell_type": "code",
   "execution_count": 38,
   "metadata": {},
   "outputs": [],
   "source": [
    "total['visit_date']=pd.to_datetime(total['visit_date'])"
   ]
  },
  {
   "cell_type": "code",
   "execution_count": 39,
   "metadata": {},
   "outputs": [
    {
     "data": {
      "text/html": [
       "<div>\n",
       "<style scoped>\n",
       "    .dataframe tbody tr th:only-of-type {\n",
       "        vertical-align: middle;\n",
       "    }\n",
       "\n",
       "    .dataframe tbody tr th {\n",
       "        vertical-align: top;\n",
       "    }\n",
       "\n",
       "    .dataframe thead th {\n",
       "        text-align: right;\n",
       "    }\n",
       "</style>\n",
       "<table border=\"1\" class=\"dataframe\">\n",
       "  <thead>\n",
       "    <tr style=\"text-align: right;\">\n",
       "      <th></th>\n",
       "      <th>cust_approach_date</th>\n",
       "      <th>visit_date</th>\n",
       "    </tr>\n",
       "  </thead>\n",
       "  <tbody>\n",
       "    <tr>\n",
       "      <th>0</th>\n",
       "      <td>2015-07-23</td>\n",
       "      <td>2017-09-22</td>\n",
       "    </tr>\n",
       "    <tr>\n",
       "      <th>1</th>\n",
       "      <td>2015-08-09</td>\n",
       "      <td>2018-05-08</td>\n",
       "    </tr>\n",
       "    <tr>\n",
       "      <th>2</th>\n",
       "      <td>2017-10-14</td>\n",
       "      <td>2017-10-15</td>\n",
       "    </tr>\n",
       "    <tr>\n",
       "      <th>3</th>\n",
       "      <td>2017-10-22</td>\n",
       "      <td>2017-10-23</td>\n",
       "    </tr>\n",
       "    <tr>\n",
       "      <th>4</th>\n",
       "      <td>2017-11-11</td>\n",
       "      <td>2018-05-03</td>\n",
       "    </tr>\n",
       "  </tbody>\n",
       "</table>\n",
       "</div>"
      ],
      "text/plain": [
       "  cust_approach_date visit_date\n",
       "0         2015-07-23 2017-09-22\n",
       "1         2015-08-09 2018-05-08\n",
       "2         2017-10-14 2017-10-15\n",
       "3         2017-10-22 2017-10-23\n",
       "4         2017-11-11 2018-05-03"
      ]
     },
     "execution_count": 39,
     "metadata": {},
     "output_type": "execute_result"
    }
   ],
   "source": [
    "total[['cust_approach_date','visit_date']].head()"
   ]
  },
  {
   "cell_type": "code",
   "execution_count": 40,
   "metadata": {},
   "outputs": [],
   "source": [
    "total['Date_Diff']=(total['visit_date']-total['cust_approach_date']).dt.days"
   ]
  },
  {
   "cell_type": "code",
   "execution_count": 41,
   "metadata": {},
   "outputs": [],
   "source": [
    "#Drop visit_date and cust_approach_date"
   ]
  },
  {
   "cell_type": "code",
   "execution_count": 42,
   "metadata": {},
   "outputs": [],
   "source": [
    "total['cust_attrb_1']=total['cust_attrb_1'].str.replace('cat','').astype(int)\n",
    "total['cust_attrb_2']=total['cust_attrb_2'].str.replace('cat','').astype(int)\n",
    "total['cust_attrb_3']=total['cust_attrb_3'].str.replace('cat','').astype(int)\n",
    "total['cust_attrb_4']=total['cust_attrb_4'].str.replace('cat','').astype(int)\n",
    "total['cust_attrb_5']=total['cust_attrb_5'].str.replace('cat','').astype(int)\n",
    "total['cust_attrb_6']=total['cust_attrb_6'].str.replace('cat','').astype(int)\n",
    "total['cust_attrb_7']=total['cust_attrb_7'].str.replace('cat','').astype(int)"
   ]
  },
  {
   "cell_type": "code",
   "execution_count": null,
   "metadata": {},
   "outputs": [],
   "source": []
  },
  {
   "cell_type": "code",
   "execution_count": 43,
   "metadata": {},
   "outputs": [],
   "source": [
    "total['prod_char_1']=total['prod_char_1'].str.replace('cat','').astype(float)\n",
    "total['prod_char_2']=total['prod_char_2'].str.replace('cat','').astype(float)\n",
    "total['prod_char_3']=total['prod_char_3'].str.replace('cat','').astype(float)\n",
    "total['prod_char_4']=total['prod_char_4'].str.replace('cat','').astype(float)\n",
    "total['prod_char_5']=total['prod_char_5'].str.replace('cat','').astype(float)\n",
    "total['prod_char_6']=total['prod_char_6'].str.replace('cat','').astype(float)\n",
    "total['prod_char_7']=total['prod_char_7'].str.replace('cat','').astype(float)"
   ]
  },
  {
   "cell_type": "code",
   "execution_count": 44,
   "metadata": {},
   "outputs": [],
   "source": [
    "total.drop(['product_id','visit_date','cust_approach_date'],axis=1,inplace=True)"
   ]
  },
  {
   "cell_type": "code",
   "execution_count": 45,
   "metadata": {},
   "outputs": [
    {
     "name": "stdout",
     "output_type": "stream",
     "text": [
      "<class 'pandas.core.frame.DataFrame'>\n",
      "RangeIndex: 99431 entries, 0 to 99430\n",
      "Data columns (total 42 columns):\n",
      "cust_id              99431 non-null object\n",
      "campaign_category    99431 non-null object\n",
      "prod_char_1          7954 non-null float64\n",
      "prod_char_2          7954 non-null float64\n",
      "prod_char_3          7954 non-null float64\n",
      "prod_char_4          7954 non-null float64\n",
      "prod_char_5          7954 non-null float64\n",
      "prod_char_6          7954 non-null float64\n",
      "prod_char_7          91477 non-null float64\n",
      "purchase             77000 non-null float64\n",
      "city                 99431 non-null object\n",
      "cust_group           99431 non-null object\n",
      "cust_type            99431 non-null object\n",
      "cust_attrb_1         99431 non-null int32\n",
      "cust_attrb_2         99431 non-null int32\n",
      "cust_attrb_3         99431 non-null int32\n",
      "cust_attrb_4         99431 non-null int32\n",
      "cust_attrb_5         99431 non-null int32\n",
      "cust_attrb_6         99431 non-null int32\n",
      "cust_attrb_7         99431 non-null int32\n",
      "cust_attrb_8         99431 non-null int64\n",
      "cust_attrb_9         99431 non-null int64\n",
      "cust_attrb_10        99431 non-null int64\n",
      "cust_attrb_11        99431 non-null int64\n",
      "cust_attrb_12        99431 non-null int64\n",
      "cust_attrb_13        99431 non-null int64\n",
      "cust_attrb_14        99431 non-null int64\n",
      "cust_attrb_15        99431 non-null int64\n",
      "cust_attrb_16        99431 non-null int64\n",
      "cust_attrb_17        99431 non-null int64\n",
      "cust_attrb_18        99431 non-null int64\n",
      "cust_attrb_19        99431 non-null int64\n",
      "cust_attrb_20        99431 non-null int64\n",
      "cust_attrb_21        99431 non-null int64\n",
      "cust_attrb_22        99431 non-null int64\n",
      "cust_attrb_23        99431 non-null int64\n",
      "cust_attrb_24        99431 non-null int64\n",
      "cust_attrb_25        99431 non-null int64\n",
      "cust_attrb_26        99431 non-null int64\n",
      "cust_attrb_27        99431 non-null int64\n",
      "cust_attrb_28        99431 non-null int64\n",
      "Date_Diff            99431 non-null int64\n",
      "dtypes: float64(8), int32(7), int64(22), object(5)\n",
      "memory usage: 29.2+ MB\n"
     ]
    }
   ],
   "source": [
    "total.info()"
   ]
  },
  {
   "cell_type": "code",
   "execution_count": 46,
   "metadata": {},
   "outputs": [],
   "source": [
    "from sklearn.preprocessing import LabelEncoder\n",
    "le=LabelEncoder()\n",
    "total['cust_id']=le.fit_transform(total['cust_id'])"
   ]
  },
  {
   "cell_type": "code",
   "execution_count": 47,
   "metadata": {},
   "outputs": [],
   "source": [
    "cat_col=list(total.select_dtypes(object))"
   ]
  },
  {
   "cell_type": "code",
   "execution_count": 48,
   "metadata": {},
   "outputs": [
    {
     "data": {
      "text/plain": [
       "['campaign_category', 'city', 'cust_group', 'cust_type']"
      ]
     },
     "execution_count": 48,
     "metadata": {},
     "output_type": "execute_result"
    }
   ],
   "source": [
    "cat_col"
   ]
  },
  {
   "cell_type": "code",
   "execution_count": 49,
   "metadata": {},
   "outputs": [],
   "source": [
    "dummy=pd.get_dummies(total[cat_col],drop_first=True)"
   ]
  },
  {
   "cell_type": "code",
   "execution_count": 50,
   "metadata": {},
   "outputs": [],
   "source": [
    "total_data=pd.concat([total,dummy],axis=1)"
   ]
  },
  {
   "cell_type": "code",
   "execution_count": 51,
   "metadata": {},
   "outputs": [
    {
     "data": {
      "text/html": [
       "<div>\n",
       "<style scoped>\n",
       "    .dataframe tbody tr th:only-of-type {\n",
       "        vertical-align: middle;\n",
       "    }\n",
       "\n",
       "    .dataframe tbody tr th {\n",
       "        vertical-align: top;\n",
       "    }\n",
       "\n",
       "    .dataframe thead th {\n",
       "        text-align: right;\n",
       "    }\n",
       "</style>\n",
       "<table border=\"1\" class=\"dataframe\">\n",
       "  <thead>\n",
       "    <tr style=\"text-align: right;\">\n",
       "      <th></th>\n",
       "      <th>cust_id</th>\n",
       "      <th>campaign_category</th>\n",
       "      <th>prod_char_1</th>\n",
       "      <th>prod_char_2</th>\n",
       "      <th>prod_char_3</th>\n",
       "      <th>prod_char_4</th>\n",
       "      <th>prod_char_5</th>\n",
       "      <th>prod_char_6</th>\n",
       "      <th>prod_char_7</th>\n",
       "      <th>purchase</th>\n",
       "      <th>...</th>\n",
       "      <th>cust_group_group 9948</th>\n",
       "      <th>cust_group_group 9949</th>\n",
       "      <th>cust_group_group 9950</th>\n",
       "      <th>cust_group_group 9954</th>\n",
       "      <th>cust_group_group 996</th>\n",
       "      <th>cust_group_group 9967</th>\n",
       "      <th>cust_group_group 997</th>\n",
       "      <th>cust_group_group 9996</th>\n",
       "      <th>cust_type_type 2</th>\n",
       "      <th>cust_type_type 3</th>\n",
       "    </tr>\n",
       "  </thead>\n",
       "  <tbody>\n",
       "    <tr>\n",
       "      <th>0</th>\n",
       "      <td>289</td>\n",
       "      <td>type 5</td>\n",
       "      <td>NaN</td>\n",
       "      <td>NaN</td>\n",
       "      <td>NaN</td>\n",
       "      <td>NaN</td>\n",
       "      <td>NaN</td>\n",
       "      <td>NaN</td>\n",
       "      <td>208.0</td>\n",
       "      <td>1.0</td>\n",
       "      <td>...</td>\n",
       "      <td>0</td>\n",
       "      <td>0</td>\n",
       "      <td>0</td>\n",
       "      <td>0</td>\n",
       "      <td>0</td>\n",
       "      <td>0</td>\n",
       "      <td>0</td>\n",
       "      <td>0</td>\n",
       "      <td>0</td>\n",
       "      <td>1</td>\n",
       "    </tr>\n",
       "    <tr>\n",
       "      <th>1</th>\n",
       "      <td>383</td>\n",
       "      <td>type 3</td>\n",
       "      <td>NaN</td>\n",
       "      <td>NaN</td>\n",
       "      <td>NaN</td>\n",
       "      <td>NaN</td>\n",
       "      <td>NaN</td>\n",
       "      <td>NaN</td>\n",
       "      <td>61.0</td>\n",
       "      <td>0.0</td>\n",
       "      <td>...</td>\n",
       "      <td>0</td>\n",
       "      <td>0</td>\n",
       "      <td>0</td>\n",
       "      <td>0</td>\n",
       "      <td>0</td>\n",
       "      <td>0</td>\n",
       "      <td>0</td>\n",
       "      <td>0</td>\n",
       "      <td>0</td>\n",
       "      <td>1</td>\n",
       "    </tr>\n",
       "    <tr>\n",
       "      <th>2</th>\n",
       "      <td>6730</td>\n",
       "      <td>type 5</td>\n",
       "      <td>NaN</td>\n",
       "      <td>NaN</td>\n",
       "      <td>NaN</td>\n",
       "      <td>NaN</td>\n",
       "      <td>NaN</td>\n",
       "      <td>NaN</td>\n",
       "      <td>433.0</td>\n",
       "      <td>1.0</td>\n",
       "      <td>...</td>\n",
       "      <td>0</td>\n",
       "      <td>0</td>\n",
       "      <td>0</td>\n",
       "      <td>0</td>\n",
       "      <td>0</td>\n",
       "      <td>0</td>\n",
       "      <td>0</td>\n",
       "      <td>0</td>\n",
       "      <td>0</td>\n",
       "      <td>1</td>\n",
       "    </tr>\n",
       "    <tr>\n",
       "      <th>3</th>\n",
       "      <td>5099</td>\n",
       "      <td>type 5</td>\n",
       "      <td>NaN</td>\n",
       "      <td>NaN</td>\n",
       "      <td>NaN</td>\n",
       "      <td>NaN</td>\n",
       "      <td>NaN</td>\n",
       "      <td>NaN</td>\n",
       "      <td>2114.0</td>\n",
       "      <td>0.0</td>\n",
       "      <td>...</td>\n",
       "      <td>0</td>\n",
       "      <td>0</td>\n",
       "      <td>0</td>\n",
       "      <td>0</td>\n",
       "      <td>0</td>\n",
       "      <td>0</td>\n",
       "      <td>0</td>\n",
       "      <td>0</td>\n",
       "      <td>1</td>\n",
       "      <td>0</td>\n",
       "    </tr>\n",
       "    <tr>\n",
       "      <th>4</th>\n",
       "      <td>6382</td>\n",
       "      <td>type 3</td>\n",
       "      <td>NaN</td>\n",
       "      <td>NaN</td>\n",
       "      <td>NaN</td>\n",
       "      <td>NaN</td>\n",
       "      <td>NaN</td>\n",
       "      <td>NaN</td>\n",
       "      <td>2.0</td>\n",
       "      <td>0.0</td>\n",
       "      <td>...</td>\n",
       "      <td>0</td>\n",
       "      <td>0</td>\n",
       "      <td>0</td>\n",
       "      <td>0</td>\n",
       "      <td>0</td>\n",
       "      <td>0</td>\n",
       "      <td>0</td>\n",
       "      <td>0</td>\n",
       "      <td>1</td>\n",
       "      <td>0</td>\n",
       "    </tr>\n",
       "  </tbody>\n",
       "</table>\n",
       "<p>5 rows × 3341 columns</p>\n",
       "</div>"
      ],
      "text/plain": [
       "   cust_id campaign_category  prod_char_1  prod_char_2  prod_char_3  \\\n",
       "0      289            type 5          NaN          NaN          NaN   \n",
       "1      383            type 3          NaN          NaN          NaN   \n",
       "2     6730            type 5          NaN          NaN          NaN   \n",
       "3     5099            type 5          NaN          NaN          NaN   \n",
       "4     6382            type 3          NaN          NaN          NaN   \n",
       "\n",
       "   prod_char_4  prod_char_5  prod_char_6  prod_char_7  purchase  ...  \\\n",
       "0          NaN          NaN          NaN        208.0       1.0  ...   \n",
       "1          NaN          NaN          NaN         61.0       0.0  ...   \n",
       "2          NaN          NaN          NaN        433.0       1.0  ...   \n",
       "3          NaN          NaN          NaN       2114.0       0.0  ...   \n",
       "4          NaN          NaN          NaN          2.0       0.0  ...   \n",
       "\n",
       "  cust_group_group 9948 cust_group_group 9949 cust_group_group 9950  \\\n",
       "0                     0                     0                     0   \n",
       "1                     0                     0                     0   \n",
       "2                     0                     0                     0   \n",
       "3                     0                     0                     0   \n",
       "4                     0                     0                     0   \n",
       "\n",
       "   cust_group_group 9954  cust_group_group 996  cust_group_group 9967  \\\n",
       "0                      0                     0                      0   \n",
       "1                      0                     0                      0   \n",
       "2                      0                     0                      0   \n",
       "3                      0                     0                      0   \n",
       "4                      0                     0                      0   \n",
       "\n",
       "   cust_group_group 997  cust_group_group 9996  cust_type_type 2  \\\n",
       "0                     0                      0                 0   \n",
       "1                     0                      0                 0   \n",
       "2                     0                      0                 0   \n",
       "3                     0                      0                 1   \n",
       "4                     0                      0                 1   \n",
       "\n",
       "   cust_type_type 3  \n",
       "0                 1  \n",
       "1                 1  \n",
       "2                 1  \n",
       "3                 0  \n",
       "4                 0  \n",
       "\n",
       "[5 rows x 3341 columns]"
      ]
     },
     "execution_count": 51,
     "metadata": {},
     "output_type": "execute_result"
    }
   ],
   "source": [
    "total_data.head()"
   ]
  },
  {
   "cell_type": "code",
   "execution_count": 52,
   "metadata": {},
   "outputs": [
    {
     "data": {
      "text/plain": [
       "(99431, 3341)"
      ]
     },
     "execution_count": 52,
     "metadata": {},
     "output_type": "execute_result"
    }
   ],
   "source": [
    "total_data.shape"
   ]
  },
  {
   "cell_type": "code",
   "execution_count": 53,
   "metadata": {},
   "outputs": [],
   "source": [
    "total_data.drop(cat_col,axis=1,inplace=True)"
   ]
  },
  {
   "cell_type": "code",
   "execution_count": 54,
   "metadata": {},
   "outputs": [
    {
     "data": {
      "text/plain": [
       "(99431, 3337)"
      ]
     },
     "execution_count": 54,
     "metadata": {},
     "output_type": "execute_result"
    }
   ],
   "source": [
    "total_data.shape"
   ]
  },
  {
   "cell_type": "code",
   "execution_count": 55,
   "metadata": {},
   "outputs": [],
   "source": [
    "train_final=total_data[:77000]\n",
    "test_final=total_data[77000:]"
   ]
  },
  {
   "cell_type": "code",
   "execution_count": 56,
   "metadata": {},
   "outputs": [
    {
     "data": {
      "text/html": [
       "<div>\n",
       "<style scoped>\n",
       "    .dataframe tbody tr th:only-of-type {\n",
       "        vertical-align: middle;\n",
       "    }\n",
       "\n",
       "    .dataframe tbody tr th {\n",
       "        vertical-align: top;\n",
       "    }\n",
       "\n",
       "    .dataframe thead th {\n",
       "        text-align: right;\n",
       "    }\n",
       "</style>\n",
       "<table border=\"1\" class=\"dataframe\">\n",
       "  <thead>\n",
       "    <tr style=\"text-align: right;\">\n",
       "      <th></th>\n",
       "      <th>cust_id</th>\n",
       "      <th>prod_char_1</th>\n",
       "      <th>prod_char_2</th>\n",
       "      <th>prod_char_3</th>\n",
       "      <th>prod_char_4</th>\n",
       "      <th>prod_char_5</th>\n",
       "      <th>prod_char_6</th>\n",
       "      <th>prod_char_7</th>\n",
       "      <th>purchase</th>\n",
       "      <th>cust_attrb_1</th>\n",
       "      <th>...</th>\n",
       "      <th>cust_group_group 9948</th>\n",
       "      <th>cust_group_group 9949</th>\n",
       "      <th>cust_group_group 9950</th>\n",
       "      <th>cust_group_group 9954</th>\n",
       "      <th>cust_group_group 996</th>\n",
       "      <th>cust_group_group 9967</th>\n",
       "      <th>cust_group_group 997</th>\n",
       "      <th>cust_group_group 9996</th>\n",
       "      <th>cust_type_type 2</th>\n",
       "      <th>cust_type_type 3</th>\n",
       "    </tr>\n",
       "  </thead>\n",
       "  <tbody>\n",
       "    <tr>\n",
       "      <th>0</th>\n",
       "      <td>289</td>\n",
       "      <td>NaN</td>\n",
       "      <td>NaN</td>\n",
       "      <td>NaN</td>\n",
       "      <td>NaN</td>\n",
       "      <td>NaN</td>\n",
       "      <td>NaN</td>\n",
       "      <td>208.0</td>\n",
       "      <td>1.0</td>\n",
       "      <td>4</td>\n",
       "      <td>...</td>\n",
       "      <td>0</td>\n",
       "      <td>0</td>\n",
       "      <td>0</td>\n",
       "      <td>0</td>\n",
       "      <td>0</td>\n",
       "      <td>0</td>\n",
       "      <td>0</td>\n",
       "      <td>0</td>\n",
       "      <td>0</td>\n",
       "      <td>1</td>\n",
       "    </tr>\n",
       "    <tr>\n",
       "      <th>1</th>\n",
       "      <td>383</td>\n",
       "      <td>NaN</td>\n",
       "      <td>NaN</td>\n",
       "      <td>NaN</td>\n",
       "      <td>NaN</td>\n",
       "      <td>NaN</td>\n",
       "      <td>NaN</td>\n",
       "      <td>61.0</td>\n",
       "      <td>0.0</td>\n",
       "      <td>7</td>\n",
       "      <td>...</td>\n",
       "      <td>0</td>\n",
       "      <td>0</td>\n",
       "      <td>0</td>\n",
       "      <td>0</td>\n",
       "      <td>0</td>\n",
       "      <td>0</td>\n",
       "      <td>0</td>\n",
       "      <td>0</td>\n",
       "      <td>0</td>\n",
       "      <td>1</td>\n",
       "    </tr>\n",
       "    <tr>\n",
       "      <th>2</th>\n",
       "      <td>6730</td>\n",
       "      <td>NaN</td>\n",
       "      <td>NaN</td>\n",
       "      <td>NaN</td>\n",
       "      <td>NaN</td>\n",
       "      <td>NaN</td>\n",
       "      <td>NaN</td>\n",
       "      <td>433.0</td>\n",
       "      <td>1.0</td>\n",
       "      <td>11</td>\n",
       "      <td>...</td>\n",
       "      <td>0</td>\n",
       "      <td>0</td>\n",
       "      <td>0</td>\n",
       "      <td>0</td>\n",
       "      <td>0</td>\n",
       "      <td>0</td>\n",
       "      <td>0</td>\n",
       "      <td>0</td>\n",
       "      <td>0</td>\n",
       "      <td>1</td>\n",
       "    </tr>\n",
       "    <tr>\n",
       "      <th>3</th>\n",
       "      <td>5099</td>\n",
       "      <td>NaN</td>\n",
       "      <td>NaN</td>\n",
       "      <td>NaN</td>\n",
       "      <td>NaN</td>\n",
       "      <td>NaN</td>\n",
       "      <td>NaN</td>\n",
       "      <td>2114.0</td>\n",
       "      <td>0.0</td>\n",
       "      <td>14</td>\n",
       "      <td>...</td>\n",
       "      <td>0</td>\n",
       "      <td>0</td>\n",
       "      <td>0</td>\n",
       "      <td>0</td>\n",
       "      <td>0</td>\n",
       "      <td>0</td>\n",
       "      <td>0</td>\n",
       "      <td>0</td>\n",
       "      <td>1</td>\n",
       "      <td>0</td>\n",
       "    </tr>\n",
       "    <tr>\n",
       "      <th>4</th>\n",
       "      <td>6382</td>\n",
       "      <td>NaN</td>\n",
       "      <td>NaN</td>\n",
       "      <td>NaN</td>\n",
       "      <td>NaN</td>\n",
       "      <td>NaN</td>\n",
       "      <td>NaN</td>\n",
       "      <td>2.0</td>\n",
       "      <td>0.0</td>\n",
       "      <td>17</td>\n",
       "      <td>...</td>\n",
       "      <td>0</td>\n",
       "      <td>0</td>\n",
       "      <td>0</td>\n",
       "      <td>0</td>\n",
       "      <td>0</td>\n",
       "      <td>0</td>\n",
       "      <td>0</td>\n",
       "      <td>0</td>\n",
       "      <td>1</td>\n",
       "      <td>0</td>\n",
       "    </tr>\n",
       "  </tbody>\n",
       "</table>\n",
       "<p>5 rows × 3337 columns</p>\n",
       "</div>"
      ],
      "text/plain": [
       "   cust_id  prod_char_1  prod_char_2  prod_char_3  prod_char_4  prod_char_5  \\\n",
       "0      289          NaN          NaN          NaN          NaN          NaN   \n",
       "1      383          NaN          NaN          NaN          NaN          NaN   \n",
       "2     6730          NaN          NaN          NaN          NaN          NaN   \n",
       "3     5099          NaN          NaN          NaN          NaN          NaN   \n",
       "4     6382          NaN          NaN          NaN          NaN          NaN   \n",
       "\n",
       "   prod_char_6  prod_char_7  purchase  cust_attrb_1  ...  \\\n",
       "0          NaN        208.0       1.0             4  ...   \n",
       "1          NaN         61.0       0.0             7  ...   \n",
       "2          NaN        433.0       1.0            11  ...   \n",
       "3          NaN       2114.0       0.0            14  ...   \n",
       "4          NaN          2.0       0.0            17  ...   \n",
       "\n",
       "   cust_group_group 9948  cust_group_group 9949  cust_group_group 9950  \\\n",
       "0                      0                      0                      0   \n",
       "1                      0                      0                      0   \n",
       "2                      0                      0                      0   \n",
       "3                      0                      0                      0   \n",
       "4                      0                      0                      0   \n",
       "\n",
       "   cust_group_group 9954  cust_group_group 996  cust_group_group 9967  \\\n",
       "0                      0                     0                      0   \n",
       "1                      0                     0                      0   \n",
       "2                      0                     0                      0   \n",
       "3                      0                     0                      0   \n",
       "4                      0                     0                      0   \n",
       "\n",
       "   cust_group_group 997  cust_group_group 9996  cust_type_type 2  \\\n",
       "0                     0                      0                 0   \n",
       "1                     0                      0                 0   \n",
       "2                     0                      0                 0   \n",
       "3                     0                      0                 1   \n",
       "4                     0                      0                 1   \n",
       "\n",
       "   cust_type_type 3  \n",
       "0                 1  \n",
       "1                 1  \n",
       "2                 1  \n",
       "3                 0  \n",
       "4                 0  \n",
       "\n",
       "[5 rows x 3337 columns]"
      ]
     },
     "execution_count": 56,
     "metadata": {},
     "output_type": "execute_result"
    }
   ],
   "source": [
    "train_final.head()"
   ]
  },
  {
   "cell_type": "code",
   "execution_count": 57,
   "metadata": {},
   "outputs": [],
   "source": [
    "test_final=test_final.reset_index(drop=True)"
   ]
  },
  {
   "cell_type": "code",
   "execution_count": 58,
   "metadata": {},
   "outputs": [
    {
     "data": {
      "text/html": [
       "<div>\n",
       "<style scoped>\n",
       "    .dataframe tbody tr th:only-of-type {\n",
       "        vertical-align: middle;\n",
       "    }\n",
       "\n",
       "    .dataframe tbody tr th {\n",
       "        vertical-align: top;\n",
       "    }\n",
       "\n",
       "    .dataframe thead th {\n",
       "        text-align: right;\n",
       "    }\n",
       "</style>\n",
       "<table border=\"1\" class=\"dataframe\">\n",
       "  <thead>\n",
       "    <tr style=\"text-align: right;\">\n",
       "      <th></th>\n",
       "      <th>cust_id</th>\n",
       "      <th>prod_char_1</th>\n",
       "      <th>prod_char_2</th>\n",
       "      <th>prod_char_3</th>\n",
       "      <th>prod_char_4</th>\n",
       "      <th>prod_char_5</th>\n",
       "      <th>prod_char_6</th>\n",
       "      <th>prod_char_7</th>\n",
       "      <th>purchase</th>\n",
       "      <th>cust_attrb_1</th>\n",
       "      <th>...</th>\n",
       "      <th>cust_group_group 9948</th>\n",
       "      <th>cust_group_group 9949</th>\n",
       "      <th>cust_group_group 9950</th>\n",
       "      <th>cust_group_group 9954</th>\n",
       "      <th>cust_group_group 996</th>\n",
       "      <th>cust_group_group 9967</th>\n",
       "      <th>cust_group_group 997</th>\n",
       "      <th>cust_group_group 9996</th>\n",
       "      <th>cust_type_type 2</th>\n",
       "      <th>cust_type_type 3</th>\n",
       "    </tr>\n",
       "  </thead>\n",
       "  <tbody>\n",
       "    <tr>\n",
       "      <th>0</th>\n",
       "      <td>1</td>\n",
       "      <td>NaN</td>\n",
       "      <td>NaN</td>\n",
       "      <td>NaN</td>\n",
       "      <td>NaN</td>\n",
       "      <td>NaN</td>\n",
       "      <td>NaN</td>\n",
       "      <td>464.0</td>\n",
       "      <td>NaN</td>\n",
       "      <td>21</td>\n",
       "      <td>...</td>\n",
       "      <td>0</td>\n",
       "      <td>0</td>\n",
       "      <td>0</td>\n",
       "      <td>0</td>\n",
       "      <td>0</td>\n",
       "      <td>0</td>\n",
       "      <td>0</td>\n",
       "      <td>0</td>\n",
       "      <td>0</td>\n",
       "      <td>1</td>\n",
       "    </tr>\n",
       "    <tr>\n",
       "      <th>1</th>\n",
       "      <td>1</td>\n",
       "      <td>NaN</td>\n",
       "      <td>NaN</td>\n",
       "      <td>NaN</td>\n",
       "      <td>NaN</td>\n",
       "      <td>NaN</td>\n",
       "      <td>NaN</td>\n",
       "      <td>8.0</td>\n",
       "      <td>NaN</td>\n",
       "      <td>21</td>\n",
       "      <td>...</td>\n",
       "      <td>0</td>\n",
       "      <td>0</td>\n",
       "      <td>0</td>\n",
       "      <td>0</td>\n",
       "      <td>0</td>\n",
       "      <td>0</td>\n",
       "      <td>0</td>\n",
       "      <td>0</td>\n",
       "      <td>0</td>\n",
       "      <td>1</td>\n",
       "    </tr>\n",
       "    <tr>\n",
       "      <th>2</th>\n",
       "      <td>2</td>\n",
       "      <td>NaN</td>\n",
       "      <td>NaN</td>\n",
       "      <td>NaN</td>\n",
       "      <td>NaN</td>\n",
       "      <td>NaN</td>\n",
       "      <td>NaN</td>\n",
       "      <td>8.0</td>\n",
       "      <td>NaN</td>\n",
       "      <td>11</td>\n",
       "      <td>...</td>\n",
       "      <td>0</td>\n",
       "      <td>0</td>\n",
       "      <td>0</td>\n",
       "      <td>0</td>\n",
       "      <td>0</td>\n",
       "      <td>0</td>\n",
       "      <td>0</td>\n",
       "      <td>0</td>\n",
       "      <td>0</td>\n",
       "      <td>1</td>\n",
       "    </tr>\n",
       "    <tr>\n",
       "      <th>3</th>\n",
       "      <td>3</td>\n",
       "      <td>NaN</td>\n",
       "      <td>NaN</td>\n",
       "      <td>NaN</td>\n",
       "      <td>NaN</td>\n",
       "      <td>NaN</td>\n",
       "      <td>NaN</td>\n",
       "      <td>2.0</td>\n",
       "      <td>NaN</td>\n",
       "      <td>20</td>\n",
       "      <td>...</td>\n",
       "      <td>0</td>\n",
       "      <td>0</td>\n",
       "      <td>0</td>\n",
       "      <td>0</td>\n",
       "      <td>0</td>\n",
       "      <td>0</td>\n",
       "      <td>0</td>\n",
       "      <td>0</td>\n",
       "      <td>0</td>\n",
       "      <td>1</td>\n",
       "    </tr>\n",
       "    <tr>\n",
       "      <th>4</th>\n",
       "      <td>7</td>\n",
       "      <td>2.0</td>\n",
       "      <td>16.0</td>\n",
       "      <td>4.0</td>\n",
       "      <td>3.0</td>\n",
       "      <td>2.0</td>\n",
       "      <td>2.0</td>\n",
       "      <td>NaN</td>\n",
       "      <td>NaN</td>\n",
       "      <td>11</td>\n",
       "      <td>...</td>\n",
       "      <td>0</td>\n",
       "      <td>0</td>\n",
       "      <td>0</td>\n",
       "      <td>0</td>\n",
       "      <td>0</td>\n",
       "      <td>0</td>\n",
       "      <td>0</td>\n",
       "      <td>0</td>\n",
       "      <td>1</td>\n",
       "      <td>0</td>\n",
       "    </tr>\n",
       "  </tbody>\n",
       "</table>\n",
       "<p>5 rows × 3337 columns</p>\n",
       "</div>"
      ],
      "text/plain": [
       "   cust_id  prod_char_1  prod_char_2  prod_char_3  prod_char_4  prod_char_5  \\\n",
       "0        1          NaN          NaN          NaN          NaN          NaN   \n",
       "1        1          NaN          NaN          NaN          NaN          NaN   \n",
       "2        2          NaN          NaN          NaN          NaN          NaN   \n",
       "3        3          NaN          NaN          NaN          NaN          NaN   \n",
       "4        7          2.0         16.0          4.0          3.0          2.0   \n",
       "\n",
       "   prod_char_6  prod_char_7  purchase  cust_attrb_1  ...  \\\n",
       "0          NaN        464.0       NaN            21  ...   \n",
       "1          NaN          8.0       NaN            21  ...   \n",
       "2          NaN          8.0       NaN            11  ...   \n",
       "3          NaN          2.0       NaN            20  ...   \n",
       "4          2.0          NaN       NaN            11  ...   \n",
       "\n",
       "   cust_group_group 9948  cust_group_group 9949  cust_group_group 9950  \\\n",
       "0                      0                      0                      0   \n",
       "1                      0                      0                      0   \n",
       "2                      0                      0                      0   \n",
       "3                      0                      0                      0   \n",
       "4                      0                      0                      0   \n",
       "\n",
       "   cust_group_group 9954  cust_group_group 996  cust_group_group 9967  \\\n",
       "0                      0                     0                      0   \n",
       "1                      0                     0                      0   \n",
       "2                      0                     0                      0   \n",
       "3                      0                     0                      0   \n",
       "4                      0                     0                      0   \n",
       "\n",
       "   cust_group_group 997  cust_group_group 9996  cust_type_type 2  \\\n",
       "0                     0                      0                 0   \n",
       "1                     0                      0                 0   \n",
       "2                     0                      0                 0   \n",
       "3                     0                      0                 0   \n",
       "4                     0                      0                 1   \n",
       "\n",
       "   cust_type_type 3  \n",
       "0                 1  \n",
       "1                 1  \n",
       "2                 1  \n",
       "3                 1  \n",
       "4                 0  \n",
       "\n",
       "[5 rows x 3337 columns]"
      ]
     },
     "execution_count": 58,
     "metadata": {},
     "output_type": "execute_result"
    }
   ],
   "source": [
    "test_final.head()"
   ]
  },
  {
   "cell_type": "code",
   "execution_count": 59,
   "metadata": {},
   "outputs": [],
   "source": [
    "test_final.drop('purchase',axis=1,inplace=True)"
   ]
  },
  {
   "cell_type": "code",
   "execution_count": 60,
   "metadata": {},
   "outputs": [],
   "source": [
    "X_train=train_final.drop(['purchase'],axis=1)\n",
    "y_train=train_final.purchase"
   ]
  },
  {
   "cell_type": "code",
   "execution_count": 67,
   "metadata": {},
   "outputs": [
    {
     "data": {
      "text/plain": [
       "{'boosting_type': 'gbdt',\n",
       " 'objective': 'binary',\n",
       " 'metric': 'auc',\n",
       " 'verbose': 0,\n",
       " 'bagging_fraction': 0.8,\n",
       " 'bagging_freq': 1,\n",
       " 'num_class': 1,\n",
       " 'feature_fraction': 0.8,\n",
       " 'lambda_l1': 0.01,\n",
       " 'lambda_l2': 0.01,\n",
       " 'learning_rate': 0.01,\n",
       " 'max_bin': 255,\n",
       " 'max_depth': -1,\n",
       " 'min_data_in_bin': 1,\n",
       " 'min_data_in_leaf': 1,\n",
       " 'num_leaves': 31}"
      ]
     },
     "execution_count": 67,
     "metadata": {},
     "output_type": "execute_result"
    }
   ],
   "source": [
    "import lightgbm as lgb\n",
    "\n",
    "lgb_params = {'boosting_type': 'gbdt',\n",
    " 'objective': 'binary',\n",
    " 'metric': 'auc',\n",
    " 'verbose': 0,\n",
    " 'bagging_fraction': 0.8,\n",
    " 'bagging_freq': 1,\n",
    " 'num_class': 1,\n",
    " 'feature_fraction': 0.8,\n",
    " 'lambda_l1': 0.01,\n",
    " 'lambda_l2': 0.01,\n",
    " 'learning_rate': 0.01,\n",
    " 'max_bin': 255,\n",
    " 'max_depth': -1,\n",
    " 'min_data_in_bin': 1,\n",
    " 'min_data_in_leaf': 1,\n",
    " 'num_leaves': 31,\n",
    "  }\n",
    "lgb_params"
   ]
  },
  {
   "cell_type": "code",
   "execution_count": 68,
   "metadata": {},
   "outputs": [
    {
     "data": {
      "text/plain": [
       "LGBMClassifier(bagging_fraction=0.8, bagging_freq=1, boosting_type='gbdt',\n",
       "               class_weight=None, colsample_bytree=1.0, feature_fraction=0.8,\n",
       "               importance_type='split', lambda_l1=0.01, lambda_l2=0.01,\n",
       "               learning_rate=0.01, max_bin=255, max_depth=-1, metric='auc',\n",
       "               min_child_samples=20, min_child_weight=0.001, min_data_in_bin=1,\n",
       "               min_data_in_leaf=1, min_split_gain=0.0, n_estimators=1000,\n",
       "               n_jobs=-1, num_class=1, num_leaves=31, objective='binary',\n",
       "               random_state=None, reg_alpha=0.0, reg_lambda=0.0, silent=True,\n",
       "               subsample=1.0, subsample_for_bin=200000, subsample_freq=0, ...)"
      ]
     },
     "execution_count": 68,
     "metadata": {},
     "output_type": "execute_result"
    }
   ],
   "source": [
    "clf_lgb_1 = lgb.LGBMClassifier(n_estimators=1000, **lgb_params)\n",
    "clf_lgb_1.fit(X_train, y_train)"
   ]
  },
  {
   "cell_type": "code",
   "execution_count": 69,
   "metadata": {},
   "outputs": [],
   "source": [
    "y_pred_lgb=clf_lgb_1.predict_proba(test_final)[:,1]"
   ]
  },
  {
   "cell_type": "code",
   "execution_count": 70,
   "metadata": {},
   "outputs": [
    {
     "data": {
      "text/plain": [
       "array([5.95612164e-01, 5.94536312e-01, 6.29649423e-01, ...,\n",
       "       8.14444848e-01, 9.23173929e-01, 6.23254205e-04])"
      ]
     },
     "execution_count": 70,
     "metadata": {},
     "output_type": "execute_result"
    }
   ],
   "source": [
    "y_pred_lgb"
   ]
  },
  {
   "cell_type": "code",
   "execution_count": 71,
   "metadata": {},
   "outputs": [],
   "source": [
    "from sklearn.model_selection import cross_val_score\n",
    "all_scores = cross_val_score(estimator=clf_lgb_1, X=X_train, y=y_train, cv=5,scoring='roc_auc')"
   ]
  },
  {
   "cell_type": "code",
   "execution_count": 72,
   "metadata": {
    "scrolled": true
   },
   "outputs": [
    {
     "data": {
      "text/plain": [
       "array([0.98953724, 0.98958988, 0.98784855, 0.98964496, 0.98806968])"
      ]
     },
     "execution_count": 72,
     "metadata": {},
     "output_type": "execute_result"
    }
   ],
   "source": [
    "all_scores"
   ]
  },
  {
   "cell_type": "code",
   "execution_count": 78,
   "metadata": {},
   "outputs": [
    {
     "data": {
      "text/plain": [
       "{'boosting_type': 'gbdt',\n",
       " 'objective': 'binary',\n",
       " 'metric': 'auc',\n",
       " 'verbose': 0,\n",
       " 'bagging_fraction': 0.8,\n",
       " 'bagging_freq': 1,\n",
       " 'num_class': 1,\n",
       " 'feature_fraction': 0.8,\n",
       " 'lambda_l1': 0.01,\n",
       " 'lambda_l2': 0.01,\n",
       " 'learning_rate': 0.06,\n",
       " 'max_bin': 255,\n",
       " 'max_depth': -1,\n",
       " 'min_data_in_bin': 1,\n",
       " 'min_data_in_leaf': 1,\n",
       " 'num_leaves': 31}"
      ]
     },
     "execution_count": 78,
     "metadata": {},
     "output_type": "execute_result"
    }
   ],
   "source": [
    "\n",
    "\n",
    "lgb_params = {'boosting_type': 'gbdt',\n",
    " 'objective': 'binary',\n",
    " 'metric': 'auc',\n",
    " 'verbose': 0,\n",
    " 'bagging_fraction': 0.8,\n",
    " 'bagging_freq': 1,\n",
    " 'num_class': 1,\n",
    " 'feature_fraction': 0.8,\n",
    " 'lambda_l1': 0.01,\n",
    " 'lambda_l2': 0.01,\n",
    " 'learning_rate': 0.06,\n",
    " 'max_bin': 255,\n",
    " 'max_depth': -1,\n",
    " 'min_data_in_bin': 1,\n",
    " 'min_data_in_leaf': 1,\n",
    " 'num_leaves': 31,\n",
    "  }\n",
    "lgb_params"
   ]
  },
  {
   "cell_type": "code",
   "execution_count": 79,
   "metadata": {},
   "outputs": [
    {
     "data": {
      "text/plain": [
       "LGBMClassifier(bagging_fraction=0.8, bagging_freq=1, boosting_type='gbdt',\n",
       "               class_weight=None, colsample_bytree=1.0, feature_fraction=0.8,\n",
       "               importance_type='split', lambda_l1=0.01, lambda_l2=0.01,\n",
       "               learning_rate=0.06, max_bin=255, max_depth=-1, metric='auc',\n",
       "               min_child_samples=20, min_child_weight=0.001, min_data_in_bin=1,\n",
       "               min_data_in_leaf=1, min_split_gain=0.0, n_estimators=1000,\n",
       "               n_jobs=-1, num_class=1, num_leaves=31, objective='binary',\n",
       "               random_state=None, reg_alpha=0.0, reg_lambda=0.0, silent=True,\n",
       "               subsample=1.0, subsample_for_bin=200000, subsample_freq=0, ...)"
      ]
     },
     "execution_count": 79,
     "metadata": {},
     "output_type": "execute_result"
    }
   ],
   "source": [
    "clf_lgb_2 = lgb.LGBMClassifier(n_estimators=1000, **lgb_params)\n",
    "clf_lgb_2.fit(X_train, y_train)"
   ]
  },
  {
   "cell_type": "code",
   "execution_count": 80,
   "metadata": {},
   "outputs": [],
   "source": [
    "y_pred_lgb1=clf_lgb_2.predict_proba(test_final)[:,1]"
   ]
  },
  {
   "cell_type": "code",
   "execution_count": 81,
   "metadata": {},
   "outputs": [
    {
     "data": {
      "text/plain": [
       "array([1.53242337e-01, 1.31703539e-01, 1.62887177e-01, ...,\n",
       "       9.73453923e-01, 9.88607038e-01, 2.74251130e-05])"
      ]
     },
     "execution_count": 81,
     "metadata": {},
     "output_type": "execute_result"
    }
   ],
   "source": [
    "y_pred_lgb1"
   ]
  },
  {
   "cell_type": "code",
   "execution_count": 87,
   "metadata": {},
   "outputs": [],
   "source": [
    "from sklearn.model_selection import cross_val_score\n",
    "all_scores = cross_val_score(estimator=clf_lgb_2, X=X_train, y=y_train, cv=5,scoring='roc_auc')"
   ]
  },
  {
   "cell_type": "code",
   "execution_count": 88,
   "metadata": {
    "scrolled": true
   },
   "outputs": [
    {
     "data": {
      "text/plain": [
       "array([0.99759726, 0.99758634, 0.99769479, 0.99799693, 0.99723561])"
      ]
     },
     "execution_count": 88,
     "metadata": {},
     "output_type": "execute_result"
    }
   ],
   "source": [
    "all_scores"
   ]
  },
  {
   "cell_type": "code",
   "execution_count": 89,
   "metadata": {},
   "outputs": [],
   "source": [
    "submission=pd.read_csv('C:\\\\Users\\\\user\\\\Desktop\\\\Upgrad\\\\Praxis\\\\sample_submission_85njlT4.csv')"
   ]
  },
  {
   "cell_type": "code",
   "execution_count": 90,
   "metadata": {},
   "outputs": [],
   "source": [
    "submission.purchase=(y_pred_lgb+y_pred_lgb1)/2"
   ]
  },
  {
   "cell_type": "code",
   "execution_count": 91,
   "metadata": {},
   "outputs": [],
   "source": [
    "submission.cust_id=test.cust_id"
   ]
  },
  {
   "cell_type": "code",
   "execution_count": 92,
   "metadata": {},
   "outputs": [
    {
     "data": {
      "text/html": [
       "<div>\n",
       "<style scoped>\n",
       "    .dataframe tbody tr th:only-of-type {\n",
       "        vertical-align: middle;\n",
       "    }\n",
       "\n",
       "    .dataframe tbody tr th {\n",
       "        vertical-align: top;\n",
       "    }\n",
       "\n",
       "    .dataframe thead th {\n",
       "        text-align: right;\n",
       "    }\n",
       "</style>\n",
       "<table border=\"1\" class=\"dataframe\">\n",
       "  <thead>\n",
       "    <tr style=\"text-align: right;\">\n",
       "      <th></th>\n",
       "      <th>cust_id</th>\n",
       "      <th>purchase</th>\n",
       "    </tr>\n",
       "  </thead>\n",
       "  <tbody>\n",
       "    <tr>\n",
       "      <th>0</th>\n",
       "      <td>cust_1</td>\n",
       "      <td>0.374427</td>\n",
       "    </tr>\n",
       "    <tr>\n",
       "      <th>1</th>\n",
       "      <td>cust_1</td>\n",
       "      <td>0.363120</td>\n",
       "    </tr>\n",
       "    <tr>\n",
       "      <th>2</th>\n",
       "      <td>cust_100</td>\n",
       "      <td>0.396268</td>\n",
       "    </tr>\n",
       "    <tr>\n",
       "      <th>3</th>\n",
       "      <td>cust_1002</td>\n",
       "      <td>0.848366</td>\n",
       "    </tr>\n",
       "    <tr>\n",
       "      <th>4</th>\n",
       "      <td>cust_1006</td>\n",
       "      <td>0.000222</td>\n",
       "    </tr>\n",
       "  </tbody>\n",
       "</table>\n",
       "</div>"
      ],
      "text/plain": [
       "     cust_id  purchase\n",
       "0     cust_1  0.374427\n",
       "1     cust_1  0.363120\n",
       "2   cust_100  0.396268\n",
       "3  cust_1002  0.848366\n",
       "4  cust_1006  0.000222"
      ]
     },
     "execution_count": 92,
     "metadata": {},
     "output_type": "execute_result"
    }
   ],
   "source": [
    "submission.head()"
   ]
  },
  {
   "cell_type": "code",
   "execution_count": 93,
   "metadata": {},
   "outputs": [],
   "source": [
    "submission=submission.to_csv(r'C:\\\\Users\\\\user\\\\Desktop\\\\Upgrad\\\\Praxis\\\\submission_final.csv',index=False)"
   ]
  },
  {
   "cell_type": "code",
   "execution_count": null,
   "metadata": {},
   "outputs": [],
   "source": []
  }
 ],
 "metadata": {
  "kernelspec": {
   "display_name": "Python 3",
   "language": "python",
   "name": "python3"
  },
  "language_info": {
   "codemirror_mode": {
    "name": "ipython",
    "version": 3
   },
   "file_extension": ".py",
   "mimetype": "text/x-python",
   "name": "python",
   "nbconvert_exporter": "python",
   "pygments_lexer": "ipython3",
   "version": "3.7.3"
  }
 },
 "nbformat": 4,
 "nbformat_minor": 2
}
